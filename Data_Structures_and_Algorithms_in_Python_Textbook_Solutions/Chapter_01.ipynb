{
 "cells": [
  {
   "cell_type": "code",
   "execution_count": null,
   "metadata": {},
   "outputs": [],
   "source": [
    "import random\n",
    "import string\n",
    "import math\n"
   ]
  },
  {
   "cell_type": "code",
   "execution_count": null,
   "metadata": {},
   "outputs": [],
   "source": [
    "\n",
    "def is_multiple(n, m):\n",
    "    \"\"\"\n",
    "    R-1.1: Write a short Python function that takes two integer values and returns\n",
    "    True if n is a multiple of m, False otherwise.\n",
    "    \"\"\"\n",
    "    return n % m == 0\n"
   ]
  },
  {
   "cell_type": "code",
   "execution_count": null,
   "metadata": {},
   "outputs": [],
   "source": [
    "\n",
    "def is_even(k):\n",
    "    \"\"\"\n",
    "    R-1.2: Write a short Python function that takes an integer value and returns True\n",
    "    if k is even, and False otherwise. Cannot use multiplication, modulo, or division.\n",
    "    \"\"\"\n",
    "    return k & 1 == 0\n"
   ]
  },
  {
   "cell_type": "code",
   "execution_count": null,
   "metadata": {},
   "outputs": [],
   "source": [
    "\n",
    "def minmax(data):\n",
    "    \"\"\"\n",
    "    R-1.3: Write a function that takes a sequence of numbers and returns the smallest\n",
    "    and largest numbers as a tuple. Do not use min or max.\n",
    "    \"\"\"\n",
    "    smallest = largest = data[0]\n",
    "    for num in data[1:]:\n",
    "        if num < smallest:\n",
    "            smallest = num\n",
    "        if num > largest:\n",
    "            largest = num\n",
    "    return (smallest, largest)\n"
   ]
  },
  {
   "cell_type": "code",
   "execution_count": null,
   "metadata": {},
   "outputs": [],
   "source": [
    "\n",
    "def sum_of_squares(n):\n",
    "    \"\"\"\n",
    "    R-1.4: Write a function that returns the sum of squares of all positive integers smaller than n.\n",
    "    \"\"\"\n",
    "    return sum(i ** 2 for i in range(n))\n"
   ]
  },
  {
   "cell_type": "code",
   "execution_count": null,
   "metadata": {},
   "outputs": [],
   "source": [
    "\n",
    "def sum_of_squares_odd(n):\n",
    "    \"\"\"\n",
    "    R-1.6: Returns the sum of squares of all odd positive integers smaller than n.\n",
    "    \"\"\"\n",
    "    return sum(i ** 2 for i in range(n) if i % 2 != 0)\n"
   ]
  },
  {
   "cell_type": "code",
   "execution_count": null,
   "metadata": {},
   "outputs": [],
   "source": [
    "\n",
    "def equivalent_index(n, k):\n",
    "    \"\"\"\n",
    "    R-1.8: Find the equivalent positive index for a negative index k in a string of length n.\n",
    "    \"\"\"\n",
    "    return n + k\n"
   ]
  },
  {
   "cell_type": "code",
   "execution_count": null,
   "metadata": {},
   "outputs": [],
   "source": [
    "\n",
    "def range_50_80():\n",
    "    \"\"\"\n",
    "    R-1.9: Generate a range with values 50, 60, 70, 80.\n",
    "    \"\"\"\n",
    "    return range(50, 90, 10)\n"
   ]
  },
  {
   "cell_type": "code",
   "execution_count": null,
   "metadata": {},
   "outputs": [],
   "source": [
    "\n",
    "def range_8_neg8():\n",
    "    \"\"\"\n",
    "    R-1.10: Generate a range with values 8, 6, 4, ..., -8.\n",
    "    \"\"\"\n",
    "    return range(8, -10, -2)\n"
   ]
  },
  {
   "cell_type": "code",
   "execution_count": null,
   "metadata": {},
   "outputs": [],
   "source": [
    "\n",
    "def power_of_twos():\n",
    "    \"\"\"\n",
    "    R-1.11: Use list comprehension to produce the list [1, 2, 4, 8, 16, 32, 64, 128, 256].\n",
    "    \"\"\"\n",
    "    return [2 ** i for i in range(10)]\n"
   ]
  },
  {
   "cell_type": "code",
   "execution_count": null,
   "metadata": {},
   "outputs": [],
   "source": [
    "\n",
    "def custom_choice(data):\n",
    "    \"\"\"\n",
    "    R-1.12: Implement your own version of the random.choice function using randrange.\n",
    "    \"\"\"\n",
    "    return data[random.randrange(len(data))]\n"
   ]
  },
  {
   "cell_type": "code",
   "execution_count": null,
   "metadata": {},
   "outputs": [],
   "source": [
    "\n",
    "def reverse_list(lst):\n",
    "    \"\"\"\n",
    "    C-1.13: Reverse a list of integers.\n",
    "    \"\"\"\n",
    "    return lst[::-1]\n"
   ]
  },
  {
   "cell_type": "code",
   "execution_count": null,
   "metadata": {},
   "outputs": [],
   "source": [
    "\n",
    "def distinct_pair_product_odd(seq):\n",
    "    \"\"\"\n",
    "    C-1.14: Check if there exists a distinct pair of numbers whose product is odd.\n",
    "    \"\"\"\n",
    "    odd_numbers = [x for x in seq if x % 2 != 0]\n",
    "    return len(odd_numbers) > 1\n"
   ]
  },
  {
   "cell_type": "code",
   "execution_count": null,
   "metadata": {},
   "outputs": [],
   "source": [
    "\n",
    "def all_unique(seq):\n",
    "    \"\"\"\n",
    "    C-1.15: Determine if all numbers in a sequence are distinct.\n",
    "    \"\"\"\n",
    "    return len(seq) == len(set(seq))\n"
   ]
  },
  {
   "cell_type": "code",
   "execution_count": null,
   "metadata": {},
   "outputs": [],
   "source": [
    "\n",
    "def list_comprehension_0_90():\n",
    "    \"\"\"\n",
    "    C-1.18: Produce a list [0, 2, 6, 12, ..., 90] using list comprehension.\n",
    "    \"\"\"\n",
    "    return [i * (i+1) for i in range(10)]\n"
   ]
  },
  {
   "cell_type": "code",
   "execution_count": null,
   "metadata": {},
   "outputs": [],
   "source": [
    "\n",
    "def list_comprehension_alphabet():\n",
    "    \"\"\"\n",
    "    C-1.19: Generate a list of lowercase alphabet letters.\n",
    "    \"\"\"\n",
    "    return [chr(i) for i in range(ord('a'), ord('z')+1)]\n"
   ]
  },
  {
   "cell_type": "code",
   "execution_count": null,
   "metadata": {},
   "outputs": [],
   "source": [
    "\n",
    "def custom_shuffle(data):\n",
    "    \"\"\"\n",
    "    C-1.20: Implement a shuffle function using only randint.\n",
    "    \"\"\"\n",
    "    for i in range(len(data) - 1, 0, -1):\n",
    "        j = random.randint(0, i)\n",
    "        data[i], data[j] = data[j], data[i]\n"
   ]
  },
  {
   "cell_type": "code",
   "execution_count": null,
   "metadata": {},
   "outputs": [],
   "source": [
    "\n",
    "def reverse_input():\n",
    "    \"\"\"\n",
    "    C-1.21: Read lines from input until EOFError and print them in reverse order.\n",
    "    \"\"\"\n",
    "    lines = []\n",
    "    try:\n",
    "        while True:\n",
    "            lines.append(input())\n",
    "    except EOFError:\n",
    "        print(\"\\n\".join(reversed(lines)))\n"
   ]
  },
  {
   "cell_type": "code",
   "execution_count": null,
   "metadata": {},
   "outputs": [],
   "source": [
    "\n",
    "def dot_product(a, b):\n",
    "    \"\"\"\n",
    "    C-1.22: Compute the dot product of two lists.\n",
    "    \"\"\"\n",
    "    return [a[i] * b[i] for i in range(len(a))]\n"
   ]
  },
  {
   "cell_type": "code",
   "execution_count": null,
   "metadata": {},
   "outputs": [],
   "source": [
    "\n",
    "def count_vowels(s):\n",
    "    \"\"\"\n",
    "    C-1.24: Count the number of vowels in a string.\n",
    "    \"\"\"\n",
    "    return sum(1 for c in s.lower() if c in 'aeiou')\n"
   ]
  },
  {
   "cell_type": "code",
   "execution_count": null,
   "metadata": {},
   "outputs": [],
   "source": [
    "\n",
    "def remove_punctuation(s):\n",
    "    \"\"\"\n",
    "    C-1.25: Remove punctuation from a string.\n",
    "    \"\"\"\n",
    "    return \"\".join(c for c in s if c not in string.punctuation)\n"
   ]
  },
  {
   "cell_type": "code",
   "execution_count": null,
   "metadata": {},
   "outputs": [],
   "source": [
    "\n",
    "def valid_arithmetic(a, b, c):\n",
    "    \"\"\"\n",
    "    C-1.26: Check if a, b, and c can form a valid arithmetic equation.\n",
    "    \"\"\"\n",
    "    return a + b == c or a == b - c or a * b == c\n"
   ]
  },
  {
   "cell_type": "code",
   "execution_count": null,
   "metadata": {},
   "outputs": [],
   "source": [
    "\n",
    "def norm(v, p=2):\n",
    "    \"\"\"\n",
    "    C-1.28: Compute the p-norm of a vector.\n",
    "    \"\"\"\n",
    "    return sum(x**p for x in v) ** (1/p)\n"
   ]
  },
  {
   "cell_type": "code",
   "execution_count": null,
   "metadata": {},
   "outputs": [],
   "source": [
    "\n",
    "def word_count():\n",
    "    \"\"\"\n",
    "    P-1.36: Count the occurrences of each word in a given list of words.\n",
    "    \"\"\"\n",
    "    words = input(\"Enter words: \").split()\n",
    "    count = {word: words.count(word) for word in set(words)}\n",
    "    return count\n"
   ]
  }
 ],
 "metadata": {
  "kernelspec": {
   "display_name": "3.10.1",
   "language": "python",
   "name": "python3"
  },
  "language_info": {
   "name": "python",
   "version": "3.10.1"
  }
 },
 "nbformat": 4,
 "nbformat_minor": 2
}
